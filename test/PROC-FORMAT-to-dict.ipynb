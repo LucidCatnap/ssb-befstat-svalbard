{
 "cells": [
  {
   "cell_type": "code",
   "execution_count": null,
   "metadata": {},
   "outputs": [],
   "source": []
  }
 ],
 "metadata": {
  "kernelspec": {
   "display_name": "Python 3",
   "language": "python",
   "name": "python3"
  },
  "language_info": {
   "name": "python",
   "version": "3.10.9"
  },
  "orig_nbformat": 4,
  "vscode": {
   "interpreter": {
    "hash": "07770f909515846a7bcff4ce7a409ab60589f150405269c8ac69927b01404eed"
   }
  }
 },
 "nbformat": 4,
 "nbformat_minor": 2
}
